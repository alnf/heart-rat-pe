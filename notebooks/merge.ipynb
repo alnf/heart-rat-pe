{
 "cells": [
  {
   "cell_type": "code",
   "execution_count": null,
   "id": "ec4f24b7-064d-43f6-b089-8b6664d95cee",
   "metadata": {
    "tags": []
   },
   "outputs": [],
   "source": [
    "import yaml\n",
    "import numpy as np\n",
    "import os"
   ]
  },
  {
   "cell_type": "markdown",
   "id": "7f4b7067-9c58-4eeb-a2ac-bffa0d498e7b",
   "metadata": {},
   "source": [
    "## Load configs"
   ]
  },
  {
   "cell_type": "code",
   "execution_count": null,
   "id": "a9ac9f57-1fe1-4134-b40d-eac38c98407b",
   "metadata": {
    "tags": []
   },
   "outputs": [],
   "source": [
    "with open(\"../config.yaml\", \"r\") as yamlfile:\n",
    "    config = yaml.load(yamlfile, Loader=yaml.FullLoader)\n",
    "    print(\"Read successful\")\n",
    "print(config)"
   ]
  },
  {
   "cell_type": "code",
   "execution_count": null,
   "id": "7496f67f-90bb-42f8-80a7-2d256e5b25c5",
   "metadata": {
    "tags": []
   },
   "outputs": [],
   "source": [
    "raws = config[0]['data']['raw']\n",
    "md5sums = config[0]['data']['md5']\n",
    "merged = config[0]['data']['merged']"
   ]
  },
  {
   "cell_type": "markdown",
   "id": "adc60307-0893-46eb-8125-fa1fa60ffd82",
   "metadata": {
    "tags": []
   },
   "source": [
    "## Check md5sums"
   ]
  },
  {
   "cell_type": "code",
   "execution_count": null,
   "id": "f28f151a-4767-4606-a446-d1770d0b0d75",
   "metadata": {
    "tags": []
   },
   "outputs": [],
   "source": [
    "!cd {raws}; md5sum * > {md5sums}/md5all_new.txt"
   ]
  },
  {
   "cell_type": "code",
   "execution_count": null,
   "id": "ba630cd0-e54f-4a31-8931-9f525665c286",
   "metadata": {
    "tags": []
   },
   "outputs": [],
   "source": [
    "!cd {md5sums}; cat *.md5 > md5all_old.txt"
   ]
  },
  {
   "cell_type": "code",
   "execution_count": null,
   "id": "0b23fe72-09b3-464c-8f5d-4c4d75c89440",
   "metadata": {
    "tags": []
   },
   "outputs": [],
   "source": [
    "!diff {md5sums}/md5all_old.txt {md5sums}/md5all_new.txt"
   ]
  },
  {
   "cell_type": "markdown",
   "id": "5dabf3fc-2377-4a31-9900-b2d19a0c9930",
   "metadata": {},
   "source": [
    "## Merge lanes"
   ]
  },
  {
   "cell_type": "code",
   "execution_count": null,
   "id": "70b1dee3-91c8-491b-8847-83e76241a201",
   "metadata": {
    "tags": []
   },
   "outputs": [],
   "source": [
    "os.chdir(raws)\n",
    "os.listdir(\".\")"
   ]
  },
  {
   "cell_type": "code",
   "execution_count": null,
   "id": "e5a74f6f-6065-4404-b792-3a6c492687a8",
   "metadata": {
    "tags": []
   },
   "outputs": [],
   "source": [
    "\"10134-a_S1_L003_R2_001.fastq.gz\".split(\"_\")[0]"
   ]
  },
  {
   "cell_type": "code",
   "execution_count": null,
   "id": "0cbfceec-168d-4d54-bf95-4d1645f1199e",
   "metadata": {},
   "outputs": [],
   "source": [
    "files = [f for f in os.listdir('.') if os.path.isfile(f)]\n",
    "files.sort()\n",
    "len(files)\n",
    "ids = []\n",
    "for f in files:\n",
    "    ids.append(f.split(\"_\")[0])\n",
    "ids = np.array(ids)\n",
    "ids = np.unique(ids)\n",
    "ids[0]"
   ]
  },
  {
   "cell_type": "code",
   "execution_count": null,
   "id": "11a1f037-4f75-4bc4-abaf-1819dd7bd248",
   "metadata": {
    "tags": []
   },
   "outputs": [],
   "source": [
    "Rs = {\"R1\":[], \"R2\":[]}\n",
    "for i in range(len(ids)):\n",
    "    for f in files:\n",
    "        if ids[i] in f:\n",
    "            if \"R1\" in f:\n",
    "                Rs[\"R1\"].append(f)\n",
    "            if \"R2\" in f:\n",
    "                Rs[\"R2\"].append(f)\n",
    "    Rs[\"R1\"] = sorted(Rs[\"R1\"])\n",
    "    Rs[\"R2\"] = sorted(Rs[\"R2\"])\n",
    "    for k, v in Rs.items():\n",
    "        basename_l = v[0].split(\"_\")\n",
    "        basename = \"\".join(basename_l[0])\n",
    "        catstring = \" \".join(v)\n",
    "        mrg = os.path.join(basename + f\"_{k}\" + \".fastq.gz\")\n",
    "        mrg = os.path.join(merged, mrg)\n",
    "        os.system(f\"cat {catstring} > {mrg}\")\n",
    "    Rs = {\"R1\":[], \"R2\":[]}"
   ]
  }
 ],
 "metadata": {
  "kernelspec": {
   "display_name": "Python 3 (ipykernel)",
   "language": "python",
   "name": "python3"
  },
  "language_info": {
   "codemirror_mode": {
    "name": "ipython",
    "version": 3
   },
   "file_extension": ".py",
   "mimetype": "text/x-python",
   "name": "python",
   "nbconvert_exporter": "python",
   "pygments_lexer": "ipython3",
   "version": "3.11.0"
  }
 },
 "nbformat": 4,
 "nbformat_minor": 5
}
