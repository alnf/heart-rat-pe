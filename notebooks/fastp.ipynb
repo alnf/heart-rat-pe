{
 "cells": [
  {
   "cell_type": "code",
   "execution_count": null,
   "id": "347368c3-3a02-4cbc-ac67-bcef19de6d6f",
   "metadata": {
    "tags": []
   },
   "outputs": [],
   "source": [
    "import os\n",
    "import shutil\n",
    "import numpy as np\n",
    "import yaml"
   ]
  },
  {
   "cell_type": "code",
   "execution_count": null,
   "id": "31b3ea0f-aac4-4c5a-8bb8-e53c0fee9344",
   "metadata": {
    "tags": []
   },
   "outputs": [],
   "source": [
    "with open(\"../config.yaml\", \"r\") as yamlfile:\n",
    "    config = yaml.load(yamlfile, Loader=yaml.FullLoader)\n",
    "    print(\"Read successful\")\n",
    "print(config)"
   ]
  },
  {
   "cell_type": "code",
   "execution_count": null,
   "id": "6c29a547-ce20-4d5f-9968-1016fb32ef28",
   "metadata": {
    "tags": []
   },
   "outputs": [],
   "source": [
    "merged = config[0]['data']['merged']\n",
    "fastp = config[0]['data']['fastp']\n",
    "fastp_json = config[0]['data']['fastp_json']"
   ]
  },
  {
   "cell_type": "code",
   "execution_count": null,
   "id": "c293a9cc-d317-4293-8c95-d8316093267e",
   "metadata": {
    "tags": []
   },
   "outputs": [],
   "source": [
    "os.chdir(merged)\n",
    "files = [f for f in os.listdir('.') if os.path.isfile(f)]\n",
    "files.sort()\n",
    "len(files)"
   ]
  },
  {
   "cell_type": "code",
   "execution_count": null,
   "id": "079c7435-f407-4423-a454-d1483bb1ac2f",
   "metadata": {
    "tags": []
   },
   "outputs": [],
   "source": [
    "ids = []\n",
    "for f in files:\n",
    "    ids.append(f.split(\"_\")[0])\n",
    "ids = np.array(ids)\n",
    "ids = np.unique(ids)\n",
    "len(ids)"
   ]
  },
  {
   "cell_type": "markdown",
   "id": "bc54e7e5-9d9a-437f-9b88-2fe760c7d31a",
   "metadata": {},
   "source": [
    "## Perform quality control with fastp"
   ]
  },
  {
   "cell_type": "code",
   "execution_count": null,
   "id": "3426be0e-b1a4-41eb-9979-de451b90ef04",
   "metadata": {
    "tags": []
   },
   "outputs": [],
   "source": [
    "for i in range(len(ids)):\n",
    "    path = \"\".join([fastp, '/',ids[i],\"_fastp\"])\n",
    "    r1 = \"\".join([ids[i], \"_R1.fastq.gz\"])\n",
    "    r2 = \"\".join([ids[i], \"_R2.fastq.gz\"])\n",
    "    out = \"\".join([path, \"/\", ids[i]])\n",
    "    print(out)\n",
    "\n",
    "    if not os.path.exists(path):\n",
    "        os.makedirs(path)\n",
    "    else:\n",
    "        shutil.rmtree(path)\n",
    "        os.makedirs(path)\n",
    "\n",
    "    os.system(f\"fastp -i {r1} -I {r2} -h {out}.html -j {out}.json -o {out}\\_R1\\_fastp.fq.gz -O {out}\\_R2\\_fastp.fq.gz -w 16\")"
   ]
  },
  {
   "cell_type": "markdown",
   "id": "d642cc3d-212a-457c-896c-0b5cc550d8fd",
   "metadata": {},
   "source": [
    "## Assemble results with multiqc"
   ]
  },
  {
   "cell_type": "code",
   "execution_count": null,
   "id": "1da184e1-95e9-422d-81be-19231425e4c0",
   "metadata": {
    "tags": []
   },
   "outputs": [],
   "source": [
    "os.chdir(fastp)\n",
    "dirs = os.listdir(\".\")\n",
    "len(dirs)"
   ]
  },
  {
   "cell_type": "code",
   "execution_count": null,
   "id": "531b6319-b025-4f1b-9b8c-7937e21b4259",
   "metadata": {
    "tags": []
   },
   "outputs": [],
   "source": [
    "os.system(f\"find . -name *.json -exec cp {{}} {fastp_json} \\;\")"
   ]
  },
  {
   "cell_type": "code",
   "execution_count": null,
   "id": "9754bea9-fb49-4f7a-8785-9c43ff588a4c",
   "metadata": {
    "tags": []
   },
   "outputs": [],
   "source": [
    "os.chdir(fastp_json)\n",
    "os.system(\"for filename in *.json; do mv $filename ${filename%.*}_fastp.json; done;\")"
   ]
  },
  {
   "cell_type": "code",
   "execution_count": null,
   "id": "9322df4c-d26e-4137-bc25-6dfa4b70b078",
   "metadata": {
    "tags": []
   },
   "outputs": [],
   "source": [
    "files = os.listdir(\".\")\n",
    "len(files)"
   ]
  },
  {
   "cell_type": "code",
   "execution_count": null,
   "id": "c52f9439-63e8-46c3-927d-73b9e824ec75",
   "metadata": {
    "tags": []
   },
   "outputs": [],
   "source": [
    "os.system(f\"multiqc {fastp_json} --filename multiqc_report_fastp -o {fastp_json}/.. -f --interactive\")"
   ]
  },
  {
   "cell_type": "code",
   "execution_count": null,
   "id": "a3441c85-12f0-4ef8-bfea-20734b5bc3fd",
   "metadata": {},
   "outputs": [],
   "source": []
  }
 ],
 "metadata": {
  "kernelspec": {
   "display_name": "Python 3 (ipykernel)",
   "language": "python",
   "name": "python3"
  },
  "language_info": {
   "codemirror_mode": {
    "name": "ipython",
    "version": 3
   },
   "file_extension": ".py",
   "mimetype": "text/x-python",
   "name": "python",
   "nbconvert_exporter": "python",
   "pygments_lexer": "ipython3",
   "version": "3.11.0"
  }
 },
 "nbformat": 4,
 "nbformat_minor": 5
}
