{
 "cells": [
  {
   "cell_type": "markdown",
   "id": "5006f183-23d4-49d0-998b-fbb9d610e2c9",
   "metadata": {},
   "source": [
    "# Differential analysis with kallisto and sleuth"
   ]
  },
  {
   "cell_type": "markdown",
   "id": "bd0bf4d3-9153-4a6b-b786-f6a3476c3a7b",
   "metadata": {},
   "source": [
    "Useful links:\n",
    "* https://hbctraining.github.io/DGE_workshop_salmon/lessons/09_sleuth.html\n",
    "* "
   ]
  },
  {
   "cell_type": "code",
   "execution_count": null,
   "id": "7d629641-369f-4e85-a29f-f5243b43cadb",
   "metadata": {
    "tags": []
   },
   "outputs": [],
   "source": [
    "import os\n",
    "import shutil\n",
    "import numpy as np\n",
    "import yaml"
   ]
  },
  {
   "cell_type": "code",
   "execution_count": null,
   "id": "47956854-ba08-46db-b5a8-653c468ba81e",
   "metadata": {
    "tags": []
   },
   "outputs": [],
   "source": [
    "with open(\"../config.yaml\", \"r\") as yamlfile:\n",
    "    config = yaml.load(yamlfile, Loader=yaml.FullLoader)\n",
    "    print(\"Read successful\")\n",
    "print(config)"
   ]
  },
  {
   "cell_type": "code",
   "execution_count": null,
   "id": "f713fd52-1739-42c6-807b-2d584719a9a1",
   "metadata": {
    "tags": []
   },
   "outputs": [],
   "source": [
    "ratdb = config[0]['data']['ratdb']\n",
    "fastp = config[0]['data']['fastp']\n",
    "kallisto = config[0]['data']['kallisto']"
   ]
  },
  {
   "cell_type": "markdown",
   "id": "15c37eac-75de-48b9-9a80-c77928cf9020",
   "metadata": {},
   "source": [
    "## Building index"
   ]
  },
  {
   "cell_type": "markdown",
   "id": "8735c79c-06e3-4897-aa5f-f172c7f21232",
   "metadata": {},
   "source": [
    "Rat data was downloaded from https://www.ensembl.org/Rattus_norvegicus/Info/Index. Genome release: mRatBN7.2 (GCA_015227675.2). NB: soft masked genome contains difficult regions marked with lower case bases (i.e. repetitive sequences), for gtf files chr suffix denotes only transcripts mapped to chromosomes specifically. We combined cdna and ncrna cDNA sequences to create index for kallisto. Another useful resource is https://rgd.mcw.edu/rgdweb/homepage/."
   ]
  },
  {
   "cell_type": "code",
   "execution_count": null,
   "id": "e883db98-4b68-4309-949a-34f3862f8d69",
   "metadata": {
    "tags": []
   },
   "outputs": [],
   "source": [
    "!kallisto index -i {ratdb}/mRatBN7.2_kallisto.idx {ratdb}/Rattus_norvegicus.mRatBN7.2.cdna.ncrna.fa.gz"
   ]
  },
  {
   "cell_type": "markdown",
   "id": "64e11837-9f1e-40e4-bdfc-d8542e91873f",
   "metadata": {},
   "source": [
    "## Quantification"
   ]
  },
  {
   "cell_type": "code",
   "execution_count": null,
   "id": "aec28963-e43b-4c6c-b483-785be6c2f135",
   "metadata": {
    "tags": []
   },
   "outputs": [],
   "source": [
    "os.chdir(fastp)\n",
    "dirs = [d for d in os.listdir('.') if os.path.isdir(d)]\n",
    "dirs.sort()\n",
    "len(dirs)"
   ]
  },
  {
   "cell_type": "code",
   "execution_count": null,
   "id": "f3a7e75c-67b5-4d27-88b2-cd37dc06bed5",
   "metadata": {
    "tags": []
   },
   "outputs": [],
   "source": [
    "ids = []\n",
    "for d in dirs:\n",
    "    ids.append(d.rsplit(\"_\", 1)[0])\n",
    "ids = np.array(ids)\n",
    "ids = np.unique(ids)\n",
    "len(ids)"
   ]
  },
  {
   "cell_type": "code",
   "execution_count": null,
   "id": "76b82df1-9944-414e-a70b-e5c6b9a3aceb",
   "metadata": {
    "tags": []
   },
   "outputs": [],
   "source": [
    "for i in range(len(ids)):\n",
    "    !kallisto quant -i {ratdb}/mRatBN7.2_kallisto.idx -t 28 -b 100 {fastp}/{ids[i]}_fastp/{ids[i]}_R1_fastp.fq.gz {fastp}/{ids[i]}_fastp/{ids[i]}_R2_fastp.fq.gz -o {kallisto}/{ids[i]}_kallisto --verbose"
   ]
  },
  {
   "cell_type": "code",
   "execution_count": null,
   "id": "be0b136d-fcb1-4331-95bd-3c3bcfc3893d",
   "metadata": {},
   "outputs": [],
   "source": []
  }
 ],
 "metadata": {
  "kernelspec": {
   "display_name": "Python 3 (ipykernel)",
   "language": "python",
   "name": "python3"
  },
  "language_info": {
   "codemirror_mode": {
    "name": "ipython",
    "version": 3
   },
   "file_extension": ".py",
   "mimetype": "text/x-python",
   "name": "python",
   "nbconvert_exporter": "python",
   "pygments_lexer": "ipython3",
   "version": "3.11.0"
  }
 },
 "nbformat": 4,
 "nbformat_minor": 5
}
